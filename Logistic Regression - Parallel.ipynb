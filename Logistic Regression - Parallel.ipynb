{
 "cells": [
  {
   "cell_type": "code",
   "execution_count": 1,
   "metadata": {},
   "outputs": [],
   "source": [
    "import numba\n",
    "from numba import jit, njit, vectorize\n",
    "import numpy as np\n",
    "import math\n",
    "import random\n",
    "import pandas as pd"
   ]
  },
  {
   "cell_type": "code",
   "execution_count": 2,
   "metadata": {},
   "outputs": [],
   "source": [
    "import time"
   ]
  },
  {
   "cell_type": "code",
   "execution_count": 126,
   "metadata": {},
   "outputs": [],
   "source": [
    "def logistic_regression(X,Y, w, iterations=1000):\n",
    "    \n",
    "    for i in range(iterations):\n",
    "        w -= np.dot(((1.0 / (1.0 + np.exp(-Y * np.dot(X, w))) - 1.0) * Y), X)\n",
    "    return w"
   ]
  },
  {
   "cell_type": "code",
   "execution_count": 141,
   "metadata": {},
   "outputs": [],
   "source": [
    "run_parallel = numba.config.NUMBA_NUM_THREADS > 1\n",
    "\n",
    "@njit(parallel=run_parallel, fastmath=True)\n",
    "def parallel_logistic_regression(X,Y,w, iterations=1000):\n",
    "    \n",
    "    for i in range(iterations):\n",
    "        w -= np.dot(((1.0 / (1.0 + np.exp(-Y * np.dot(X, w))) - 1.0) * Y), X)\n",
    "    return w  "
   ]
  },
  {
   "cell_type": "code",
   "execution_count": 91,
   "metadata": {},
   "outputs": [],
   "source": [
    "def generate_data():\n",
    "    \n",
    "    try :\n",
    "        \n",
    "        df = pd.read_csv(\"LogReg.csv\")\n",
    "        \n",
    "    except Exception as e:\n",
    "        \n",
    "        df = pd.DataFrame()        \n",
    "        dim, n, iterations = 2, 10000, 10\n",
    "        points=[random.uniform(1.8,2.4) if i<n//2 else random.uniform(2.3,2.9) for i in range(n)]\n",
    "        relation=[random.uniform(1.5,4.5) if i<n//2 else random.uniform(4.2,6.2) for i in range(n)]\n",
    "        labels = [0 if i<n//2 else 1 for i in range(n)]\n",
    "        points, labels = np.array(points), np.array(labels)\n",
    "        \n",
    "        print(\"Points : \",points[:10])\n",
    "        print(\"Relation : \",relation[:10])\n",
    "        print(\"Labels : \",labels[:10])\n",
    "        \n",
    "        df['points']=points\n",
    "        df['relation']=relation\n",
    "        df['y']=labels\n",
    "        \n",
    "        df.to_csv(\"LogReg.csv\", index=False)\n"
   ]
  },
  {
   "cell_type": "code",
   "execution_count": 92,
   "metadata": {},
   "outputs": [
    {
     "name": "stdout",
     "output_type": "stream",
     "text": [
      "Points :  [2.13812739 1.83594296 2.39481262 2.01804365 2.22318889 2.05347926\n",
      " 2.12447765 2.30259667 2.07008297 2.03928762]\n",
      "Relation :  [3.0328152120221947, 1.6369077733451685, 2.7197463432569684, 3.2403123857193687, 3.1107413425692623, 2.834948471313567, 3.1442585737612263, 4.249846036398113, 2.57430511540217, 4.0314415662144105]\n",
      "Labels :  [0 0 0 0 0 0 0 0 0 0]\n"
     ]
    }
   ],
   "source": [
    "generate_data()"
   ]
  },
  {
   "cell_type": "code",
   "execution_count": 103,
   "metadata": {},
   "outputs": [],
   "source": [
    "def generate_test_data():\n",
    "    try:\n",
    "        df = pd.read_csv(\"Testing.csv\")\n",
    "    except Exception as e:\n",
    "        \n",
    "        points = [random.uniform(1.9, 3.1) for i in range(1000)]\n",
    "        relation = [random.uniform(1.4, 6.5) for i in range(1000)]\n",
    "        labels = [0 if points[i]< 2.4 else 1 for i in range(1000)]\n",
    "\n",
    "        test = pd.DataFrame()\n",
    "        test['points'] = points\n",
    "        test['relation'] = relation\n",
    "        test['y'] = labels\n",
    "        \n",
    "        print(\"Points : \",points[:10])\n",
    "        print(\"Relation : \",relation[:10])\n",
    "        print(\"Labels : \",labels[:10])\n",
    "\n",
    "        test.to_csv(\"Testing.csv\", index=False)"
   ]
  },
  {
   "cell_type": "code",
   "execution_count": 104,
   "metadata": {},
   "outputs": [
    {
     "name": "stdout",
     "output_type": "stream",
     "text": [
      "Points :  [2.962948507804674, 2.125315016670857, 2.499591896697716, 3.089571837085578, 2.163159857321397, 2.5131247222776842, 2.8978844396508157, 2.2037906780038083, 2.5046643683382324, 2.7322073843502217]\n",
      "Relation :  [5.986958765390986, 3.2988725138524613, 3.935138737866737, 3.440338394448234, 3.1742664527653375, 3.274767200817225, 5.686109665195595, 2.2445746361324757, 4.583552382244672, 3.707247775556089]\n",
      "Labels :  [1, 0, 1, 1, 0, 1, 1, 0, 1, 1]\n"
     ]
    }
   ],
   "source": [
    "generate_test_data()"
   ]
  },
  {
   "cell_type": "code",
   "execution_count": 139,
   "metadata": {},
   "outputs": [],
   "source": [
    "def compare_time():\n",
    "    \n",
    "    w = 2.0 * np.ones(2) - 1.3\n",
    "    df = pd.read_csv(\"LogReg.csv\")\n",
    "    x,y = df.iloc[:,[0,1]].values, df.iloc[:,2].values\n",
    "    \n",
    "    start_s = time.time()\n",
    "    serial_mod = logistic_regression(x,y, w)\n",
    "    end_s = time.time()\n",
    "    stime=end_s-start_s\n",
    "    print(\"Serial execution time = {} seconds\".format(end_s - start_s))\n",
    "    \n",
    "    start_p = time.time()\n",
    "    parallel_mod = parallel_logistic_regression(x,y, w)\n",
    "    end_p = time.time()\n",
    "    ptime = end_p-start_p\n",
    "    print(\"Parallel execution time = {} seconds\".format(end_p - start_p))\n",
    "    if serial_mod.sum() == parallel_mod.sum():\n",
    "        print(\"Succesful Execution!\")\n",
    "    print(\"\\nComparison ...\\n\")\n",
    "    if ptime<stime:\n",
    "        st=\"Parallel faster by : {} seconds\".format(stime-ptime ) \n",
    "    else:\n",
    "        st = \"Serial faster by : {}\".format(ptime-stime)\n",
    "    print(st)"
   ]
  },
  {
   "cell_type": "code",
   "execution_count": 143,
   "metadata": {},
   "outputs": [
    {
     "name": "stdout",
     "output_type": "stream",
     "text": [
      "Serial execution time = 0.5779614448547363 seconds\n",
      "Parallel execution time = 0.17570137977600098 seconds\n",
      "Succesful Execution!\n",
      "\n",
      "Comparison ...\n",
      "\n",
      "Parallel faster by : 0.40226006507873535 seconds\n"
     ]
    }
   ],
   "source": [
    "compare_time()"
   ]
  },
  {
   "cell_type": "code",
   "execution_count": null,
   "metadata": {},
   "outputs": [],
   "source": []
  }
 ],
 "metadata": {
  "kernelspec": {
   "display_name": "Python 3",
   "language": "python",
   "name": "python3"
  },
  "language_info": {
   "codemirror_mode": {
    "name": "ipython",
    "version": 3
   },
   "file_extension": ".py",
   "mimetype": "text/x-python",
   "name": "python",
   "nbconvert_exporter": "python",
   "pygments_lexer": "ipython3",
   "version": "3.6.9"
  }
 },
 "nbformat": 4,
 "nbformat_minor": 2
}
