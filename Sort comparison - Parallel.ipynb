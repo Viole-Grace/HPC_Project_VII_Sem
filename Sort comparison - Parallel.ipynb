{
 "cells": [
  {
   "cell_type": "code",
   "execution_count": 1,
   "metadata": {},
   "outputs": [],
   "source": [
    "import numba as cuda"
   ]
  },
  {
   "cell_type": "code",
   "execution_count": 5,
   "metadata": {},
   "outputs": [],
   "source": [
    "import numpy as np"
   ]
  },
  {
   "cell_type": "code",
   "execution_count": 6,
   "metadata": {},
   "outputs": [],
   "source": [
    "def bsort(X):\n",
    "    \n",
    "    N = X.shape[0]\n",
    "    for end in range(N,1,-1):\n",
    "        for i in range(end-1):\n",
    "            if X[i]>X[i+1]:\n",
    "                X[i],X[i+1] = X[i+1],X[i]"
   ]
  },
  {
   "cell_type": "code",
   "execution_count": 8,
   "metadata": {},
   "outputs": [],
   "source": [
    "run_parallel = cuda.config.NUMBA_NUM_THREADS>1\n",
    "parallel_bsort = cuda.jit(nopython=True, parallel=run_parallel )(bsort)"
   ]
  },
  {
   "cell_type": "code",
   "execution_count": 19,
   "metadata": {},
   "outputs": [],
   "source": [
    "dtype=np.int64\n",
    "\n",
    "def compare_times():\n",
    "    import time\n",
    "    from timeit import default_timer as timer\n",
    "    \n",
    "    Xte = np.array(list(reversed(range(15))), dtype=dtype)\n",
    "    \n",
    "    print(\"Serial implementation of inplace sort : \")\n",
    "    X0 = Xte.copy()\n",
    "    st=time.time()\n",
    "    bsort(X0)\n",
    "    en=time.time()\n",
    "    print(X0)\n",
    "    print(\"Time taken for serial execution  : {:.3f} seconds\".format(en-st))\n",
    "    \n",
    "    print(\"Testing CUDA implementation of inplace sort : \")\n",
    "    X1 = Xte.copy()\n",
    "    sp = time.time()\n",
    "    parallel_bsort(X1)\n",
    "    ep = time.time()\n",
    "    print(X1)\n",
    "    print(\"Time taken for parallel execution : {:.3f} seconds\".format(ep-sp))\n",
    "    \n",
    "    assert all(X0==X1)\n",
    "    \n",
    "    REP = 10\n",
    "    N = 1500\n",
    "\n",
    "    Xorig = np.array(list(reversed(range(N))), dtype=dtype)\n",
    "\n",
    "    t0 = timer()\n",
    "    for t in range(REP):\n",
    "        X0 = Xorig.copy()\n",
    "        bsort(X0)\n",
    "    tpython = (timer() - t0) / REP\n",
    "\n",
    "    t1 = timer()\n",
    "    for t in range(REP):\n",
    "        X1 = Xorig.copy()\n",
    "        parallel_bsort(X1)\n",
    "    tnumba = (timer() - t1) / REP\n",
    "\n",
    "    assert all(X0 == X1)\n",
    "    \n",
    "    print(\"\\nTime taken for the execution of size {}\".format(N))\n",
    "    print('Python : ', tpython)\n",
    "    print('Numba - Cuda : ', tnumba)\n",
    "    print('\\nSpeedup', tpython / tnumba, 'x')"
   ]
  },
  {
   "cell_type": "code",
   "execution_count": 18,
   "metadata": {},
   "outputs": [
    {
     "name": "stdout",
     "output_type": "stream",
     "text": [
      "Serial implementation of inplace sort : \n",
      "[0 1 2 3 4 5 6 7]\n",
      "Time taken for serial execution  : 0.000 seconds\n",
      "Testing CUDA implementation of inplace sort : \n",
      "[0 1 2 3 4 5 6 7]\n",
      "Time taken for parallel execution : 0.000 seconds\n",
      "\n",
      "Time taken for the execution of size 10000\n",
      "Python :  24.448301293199982\n",
      "Numba - Cuda :  0.026562912100052925\n",
      "\n",
      "Speedup 920.3923576267555 x\n"
     ]
    }
   ],
   "source": [
    "compare_times()"
   ]
  },
  {
   "cell_type": "code",
   "execution_count": null,
   "metadata": {},
   "outputs": [],
   "source": []
  }
 ],
 "metadata": {
  "kernelspec": {
   "display_name": "Python 3",
   "language": "python",
   "name": "python3"
  },
  "language_info": {
   "codemirror_mode": {
    "name": "ipython",
    "version": 3
   },
   "file_extension": ".py",
   "mimetype": "text/x-python",
   "name": "python",
   "nbconvert_exporter": "python",
   "pygments_lexer": "ipython3",
   "version": "3.6.9"
  }
 },
 "nbformat": 4,
 "nbformat_minor": 2
}
